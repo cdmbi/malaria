{
 "cells": [
  {
   "cell_type": "code",
   "execution_count": 4,
   "metadata": {
    "collapsed": false
   },
   "outputs": [],
   "source": [
    "from chembl_webresource_client import *\n",
    "\n",
    "assays = AssayResource()\n",
    "targets = TargetResource()\n",
    "compounds = CompoundResource()"
   ]
  },
  {
   "cell_type": "code",
   "execution_count": 8,
   "metadata": {
    "collapsed": true
   },
   "outputs": [],
   "source": [
    "ba = compounds.bioactivities('CHEMBL579606')"
   ]
  },
  {
   "cell_type": "code",
   "execution_count": 9,
   "metadata": {
    "collapsed": false
   },
   "outputs": [
    {
     "data": {
      "text/html": [
       "<div>\n",
       "<table border=\"1\" class=\"dataframe\">\n",
       "  <thead>\n",
       "    <tr style=\"text-align: right;\">\n",
       "      <th></th>\n",
       "      <th>activity_comment</th>\n",
       "      <th>assay_chemblid</th>\n",
       "      <th>assay_description</th>\n",
       "      <th>assay_type</th>\n",
       "      <th>bioactivity_type</th>\n",
       "      <th>ingredient_cmpd_chemblid</th>\n",
       "      <th>name_in_reference</th>\n",
       "      <th>operator</th>\n",
       "      <th>organism</th>\n",
       "      <th>parent_cmpd_chemblid</th>\n",
       "      <th>reference</th>\n",
       "      <th>target_chemblid</th>\n",
       "      <th>target_confidence</th>\n",
       "      <th>target_name</th>\n",
       "      <th>units</th>\n",
       "      <th>value</th>\n",
       "    </tr>\n",
       "  </thead>\n",
       "  <tbody>\n",
       "    <tr>\n",
       "      <th>0</th>\n",
       "      <td>Unspecified</td>\n",
       "      <td>CHEMBL1054504</td>\n",
       "      <td>GSK_TCMDC: Percent inhibition of human HepG2 c...</td>\n",
       "      <td>F</td>\n",
       "      <td>Inhibition</td>\n",
       "      <td>CHEMBL579606</td>\n",
       "      <td>TCMDC-131369</td>\n",
       "      <td>=</td>\n",
       "      <td>Homo sapiens</td>\n",
       "      <td>CHEMBL534824</td>\n",
       "      <td>Nature, (2010) 465:7296:305</td>\n",
       "      <td>CHEMBL395</td>\n",
       "      <td>1</td>\n",
       "      <td>HepG2</td>\n",
       "      <td>%</td>\n",
       "      <td>59</td>\n",
       "    </tr>\n",
       "    <tr>\n",
       "      <th>1</th>\n",
       "      <td>Unspecified</td>\n",
       "      <td>CHEMBL3436042</td>\n",
       "      <td>ST_JUDE_LEISH: Cytotoxicity at 2uM final conce...</td>\n",
       "      <td>F</td>\n",
       "      <td>Inhibition</td>\n",
       "      <td>CHEMBL579606</td>\n",
       "      <td>TCMDC-131369</td>\n",
       "      <td>=</td>\n",
       "      <td>Homo sapiens</td>\n",
       "      <td>CHEMBL534824</td>\n",
       "      <td>Unspecified</td>\n",
       "      <td>CHEMBL2535</td>\n",
       "      <td>8</td>\n",
       "      <td>Glucose transporter</td>\n",
       "      <td>%</td>\n",
       "      <td>65.59</td>\n",
       "    </tr>\n",
       "    <tr>\n",
       "      <th>2</th>\n",
       "      <td>Unspecified</td>\n",
       "      <td>CHEMBL3436043</td>\n",
       "      <td>ST_JUDE_LEISH: Cytotoxicity at 2uM final conce...</td>\n",
       "      <td>F</td>\n",
       "      <td>Inhibition</td>\n",
       "      <td>CHEMBL579606</td>\n",
       "      <td>TCMDC-131369</td>\n",
       "      <td>=</td>\n",
       "      <td>Plasmodium falciparum</td>\n",
       "      <td>CHEMBL534824</td>\n",
       "      <td>Unspecified</td>\n",
       "      <td>CHEMBL4697</td>\n",
       "      <td>8</td>\n",
       "      <td>Hexose transporter 1</td>\n",
       "      <td>%</td>\n",
       "      <td>65.78</td>\n",
       "    </tr>\n",
       "    <tr>\n",
       "      <th>3</th>\n",
       "      <td>Unspecified</td>\n",
       "      <td>CHEMBL3436044</td>\n",
       "      <td>ST_JUDE_LEISH: Cytotoxicity at 2uM final conce...</td>\n",
       "      <td>F</td>\n",
       "      <td>Inhibition</td>\n",
       "      <td>CHEMBL579606</td>\n",
       "      <td>TCMDC-131369</td>\n",
       "      <td>=</td>\n",
       "      <td>Leishmania mexicana</td>\n",
       "      <td>CHEMBL534824</td>\n",
       "      <td>Unspecified</td>\n",
       "      <td>CHEMBL3431938</td>\n",
       "      <td>9</td>\n",
       "      <td>Glucose transporter</td>\n",
       "      <td>%</td>\n",
       "      <td>56.67</td>\n",
       "    </tr>\n",
       "    <tr>\n",
       "      <th>4</th>\n",
       "      <td>Unspecified</td>\n",
       "      <td>CHEMBL1054505</td>\n",
       "      <td>GSK_TCMDC: Inhibition Frequency Index (IFI). T...</td>\n",
       "      <td>F</td>\n",
       "      <td>IFI</td>\n",
       "      <td>CHEMBL579606</td>\n",
       "      <td>TCMDC-131369</td>\n",
       "      <td>=</td>\n",
       "      <td>Unspecified</td>\n",
       "      <td>CHEMBL534824</td>\n",
       "      <td>Nature, (2010) 465:7296:305</td>\n",
       "      <td>CHEMBL612545</td>\n",
       "      <td>Unspecified</td>\n",
       "      <td>Unchecked</td>\n",
       "      <td>%</td>\n",
       "      <td>5.22</td>\n",
       "    </tr>\n",
       "    <tr>\n",
       "      <th>5</th>\n",
       "      <td>Unspecified</td>\n",
       "      <td>CHEMBL1054500</td>\n",
       "      <td>GSK_TCMDC: Inhibition of Plasmodium falciparum...</td>\n",
       "      <td>F</td>\n",
       "      <td>Inhibition</td>\n",
       "      <td>CHEMBL579606</td>\n",
       "      <td>TCMDC-131369</td>\n",
       "      <td>=</td>\n",
       "      <td>Plasmodium falciparum</td>\n",
       "      <td>CHEMBL534824</td>\n",
       "      <td>Nature, (2010) 465:7296:305</td>\n",
       "      <td>CHEMBL364</td>\n",
       "      <td>1</td>\n",
       "      <td>Plasmodium falciparum</td>\n",
       "      <td>%</td>\n",
       "      <td>93</td>\n",
       "    </tr>\n",
       "    <tr>\n",
       "      <th>6</th>\n",
       "      <td>Unspecified</td>\n",
       "      <td>CHEMBL1054502</td>\n",
       "      <td>GSK_TCMDC: Inhibition of Plasmodium falciparum...</td>\n",
       "      <td>F</td>\n",
       "      <td>Inhibition</td>\n",
       "      <td>CHEMBL579606</td>\n",
       "      <td>TCMDC-131369</td>\n",
       "      <td>=</td>\n",
       "      <td>Plasmodium falciparum</td>\n",
       "      <td>CHEMBL534824</td>\n",
       "      <td>Nature, (2010) 465:7296:305</td>\n",
       "      <td>CHEMBL364</td>\n",
       "      <td>1</td>\n",
       "      <td>Plasmodium falciparum</td>\n",
       "      <td>%</td>\n",
       "      <td>Unspecified</td>\n",
       "    </tr>\n",
       "    <tr>\n",
       "      <th>7</th>\n",
       "      <td>Unspecified</td>\n",
       "      <td>CHEMBL1054501</td>\n",
       "      <td>GSK_TCMDC: Inhibition of Plasmodium falciparum...</td>\n",
       "      <td>F</td>\n",
       "      <td>Inhibition</td>\n",
       "      <td>CHEMBL579606</td>\n",
       "      <td>TCMDC-131369</td>\n",
       "      <td>=</td>\n",
       "      <td>Plasmodium falciparum</td>\n",
       "      <td>CHEMBL534824</td>\n",
       "      <td>Nature, (2010) 465:7296:305</td>\n",
       "      <td>CHEMBL364</td>\n",
       "      <td>1</td>\n",
       "      <td>Plasmodium falciparum</td>\n",
       "      <td>%</td>\n",
       "      <td>95</td>\n",
       "    </tr>\n",
       "    <tr>\n",
       "      <th>8</th>\n",
       "      <td>Unspecified</td>\n",
       "      <td>CHEMBL1054503</td>\n",
       "      <td>GSK_TCMDC: Inhibition of Plasmodium falciparum...</td>\n",
       "      <td>F</td>\n",
       "      <td>XC50</td>\n",
       "      <td>CHEMBL579606</td>\n",
       "      <td>TCMDC-131369</td>\n",
       "      <td>=</td>\n",
       "      <td>Plasmodium falciparum</td>\n",
       "      <td>CHEMBL534824</td>\n",
       "      <td>Nature, (2010) 465:7296:305</td>\n",
       "      <td>CHEMBL364</td>\n",
       "      <td>1</td>\n",
       "      <td>Plasmodium falciparum</td>\n",
       "      <td>nM</td>\n",
       "      <td>2.56</td>\n",
       "    </tr>\n",
       "  </tbody>\n",
       "</table>\n",
       "</div>"
      ],
      "text/plain": [
       "  activity_comment assay_chemblid  \\\n",
       "0      Unspecified  CHEMBL1054504   \n",
       "1      Unspecified  CHEMBL3436042   \n",
       "2      Unspecified  CHEMBL3436043   \n",
       "3      Unspecified  CHEMBL3436044   \n",
       "4      Unspecified  CHEMBL1054505   \n",
       "5      Unspecified  CHEMBL1054500   \n",
       "6      Unspecified  CHEMBL1054502   \n",
       "7      Unspecified  CHEMBL1054501   \n",
       "8      Unspecified  CHEMBL1054503   \n",
       "\n",
       "                                   assay_description assay_type  \\\n",
       "0  GSK_TCMDC: Percent inhibition of human HepG2 c...          F   \n",
       "1  ST_JUDE_LEISH: Cytotoxicity at 2uM final conce...          F   \n",
       "2  ST_JUDE_LEISH: Cytotoxicity at 2uM final conce...          F   \n",
       "3  ST_JUDE_LEISH: Cytotoxicity at 2uM final conce...          F   \n",
       "4  GSK_TCMDC: Inhibition Frequency Index (IFI). T...          F   \n",
       "5  GSK_TCMDC: Inhibition of Plasmodium falciparum...          F   \n",
       "6  GSK_TCMDC: Inhibition of Plasmodium falciparum...          F   \n",
       "7  GSK_TCMDC: Inhibition of Plasmodium falciparum...          F   \n",
       "8  GSK_TCMDC: Inhibition of Plasmodium falciparum...          F   \n",
       "\n",
       "  bioactivity_type ingredient_cmpd_chemblid name_in_reference operator  \\\n",
       "0       Inhibition             CHEMBL579606      TCMDC-131369        =   \n",
       "1       Inhibition             CHEMBL579606      TCMDC-131369        =   \n",
       "2       Inhibition             CHEMBL579606      TCMDC-131369        =   \n",
       "3       Inhibition             CHEMBL579606      TCMDC-131369        =   \n",
       "4              IFI             CHEMBL579606      TCMDC-131369        =   \n",
       "5       Inhibition             CHEMBL579606      TCMDC-131369        =   \n",
       "6       Inhibition             CHEMBL579606      TCMDC-131369        =   \n",
       "7       Inhibition             CHEMBL579606      TCMDC-131369        =   \n",
       "8             XC50             CHEMBL579606      TCMDC-131369        =   \n",
       "\n",
       "                organism parent_cmpd_chemblid                    reference  \\\n",
       "0           Homo sapiens         CHEMBL534824  Nature, (2010) 465:7296:305   \n",
       "1           Homo sapiens         CHEMBL534824                  Unspecified   \n",
       "2  Plasmodium falciparum         CHEMBL534824                  Unspecified   \n",
       "3    Leishmania mexicana         CHEMBL534824                  Unspecified   \n",
       "4            Unspecified         CHEMBL534824  Nature, (2010) 465:7296:305   \n",
       "5  Plasmodium falciparum         CHEMBL534824  Nature, (2010) 465:7296:305   \n",
       "6  Plasmodium falciparum         CHEMBL534824  Nature, (2010) 465:7296:305   \n",
       "7  Plasmodium falciparum         CHEMBL534824  Nature, (2010) 465:7296:305   \n",
       "8  Plasmodium falciparum         CHEMBL534824  Nature, (2010) 465:7296:305   \n",
       "\n",
       "  target_chemblid target_confidence            target_name units        value  \n",
       "0       CHEMBL395                 1                  HepG2     %           59  \n",
       "1      CHEMBL2535                 8    Glucose transporter     %        65.59  \n",
       "2      CHEMBL4697                 8   Hexose transporter 1     %        65.78  \n",
       "3   CHEMBL3431938                 9    Glucose transporter     %        56.67  \n",
       "4    CHEMBL612545       Unspecified              Unchecked     %         5.22  \n",
       "5       CHEMBL364                 1  Plasmodium falciparum     %           93  \n",
       "6       CHEMBL364                 1  Plasmodium falciparum     %  Unspecified  \n",
       "7       CHEMBL364                 1  Plasmodium falciparum     %           95  \n",
       "8       CHEMBL364                 1  Plasmodium falciparum    nM         2.56  "
      ]
     },
     "execution_count": 9,
     "metadata": {},
     "output_type": "execute_result"
    }
   ],
   "source": [
    "import pandas as pd\n",
    "df = pd.DataFrame(ba)\n",
    "df"
   ]
  },
  {
   "cell_type": "code",
   "execution_count": 10,
   "metadata": {
    "collapsed": true
   },
   "outputs": [],
   "source": [
    "df_GAMO = pd.read_csv(\"GAMO_FPdata_standardized_Tanimoto_0.7.csv\") # 151505\n",
    "chembl_id = df_GAMO['CHEMBL_ID']\n"
   ]
  },
  {
   "cell_type": "code",
   "execution_count": 12,
   "metadata": {
    "collapsed": false
   },
   "outputs": [
    {
     "data": {
      "text/plain": [
       "'CHEMBL579606'"
      ]
     },
     "execution_count": 12,
     "metadata": {},
     "output_type": "execute_result"
    }
   ],
   "source": [
    "chembl_id[0]\n",
    "#ba = compounds.bioactivities('CHEMBL579606')"
   ]
  },
  {
   "cell_type": "code",
   "execution_count": 14,
   "metadata": {
    "collapsed": false
   },
   "outputs": [
    {
     "name": "stdout",
     "output_type": "stream",
     "text": [
      "/home/server2/Documents/malaria/Compound_Bioactivities\n"
     ]
    }
   ],
   "source": [
    "%cd Compound_Bioactivities/"
   ]
  },
  {
   "cell_type": "code",
   "execution_count": null,
   "metadata": {
    "collapsed": false
   },
   "outputs": [],
   "source": [
    "for i in range(151505):\n",
    "    ba = compounds.bioactivities(chembl_id[i])\n",
    "    df = pd.DataFrame(ba)\n",
    "    df.to_csv(chembl_id[i] + \".csv\", sep = '\\t', index = False)\n",
    "    "
   ]
  },
  {
   "cell_type": "code",
   "execution_count": null,
   "metadata": {
    "collapsed": true
   },
   "outputs": [],
   "source": []
  }
 ],
 "metadata": {
  "kernelspec": {
   "display_name": "Python 2",
   "language": "python",
   "name": "python2"
  },
  "language_info": {
   "codemirror_mode": {
    "name": "ipython",
    "version": 2
   },
   "file_extension": ".py",
   "mimetype": "text/x-python",
   "name": "python",
   "nbconvert_exporter": "python",
   "pygments_lexer": "ipython2",
   "version": "2.7.11"
  }
 },
 "nbformat": 4,
 "nbformat_minor": 0
}
