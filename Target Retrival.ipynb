{
 "cells": [
  {
   "cell_type": "code",
   "execution_count": 2,
   "metadata": {
    "collapsed": false
   },
   "outputs": [],
   "source": []
  },
  {
   "cell_type": "code",
   "execution_count": 12,
   "metadata": {
    "collapsed": true
   },
   "outputs": [],
   "source": [
    "# let's import settings class first:\n",
    "from chembl_webresource_client.settings import Settings\n",
    "\n",
    "# we can now decide which protocol to use:\n",
    "Settings.Instance().WEBSERVICE_PROTOCOL = 'http'\n",
    "\n",
    "# point our client to our local webservices instance\n",
    "Settings.Instance().WEBSERVICE_DOMAIN = 'http://192.168.56.101/'\n",
    "\n",
    "# and change their prefix:\n",
    "Settings.Instance().WEBSERVICE_PREFIX = '/ws'\n",
    "\n",
    "# so now root url will look like this:\n",
    "# 'http://localhost/ws', instead of default:\n",
    "# 'https://www.ebi.ac.uk/chemblws'\n",
    "\n",
    "# default request timeout can be easily changed as well:\n",
    "Settings.Instance().TIMEOUT = 10\n",
    "\n",
    "# we can also decide to swhich off cache:\n",
    "Settings.Instance().CACHING = False\n",
    "\n",
    "# or switch off fast saving in which case we make sure data sored in cache won't be corrupted:\n",
    "Settings.Instance().FAST_SAVE = False\n",
    "\n",
    "# when retrieving data asynchronously we can decied how many requests will be made at once:\n",
    "Settings.Instance().FAST_SAVE = CONCURRENT_SIZE = 15\n",
    "\n",
    "# or how large should the bulk retrieval be to use async requests:\n",
    "Settings.Instance().ASYNC_TRESHOLD = 5"
   ]
  },
  {
   "cell_type": "code",
   "execution_count": 1,
   "metadata": {
    "collapsed": true
   },
   "outputs": [],
   "source": [
    "from chembl_webresource_client import *\n",
    "\n",
    "assays = AssayResource()\n",
    "targets = TargetResource()\n",
    "compounds = CompoundResource()"
   ]
  },
  {
   "cell_type": "code",
   "execution_count": 2,
   "metadata": {
    "collapsed": true
   },
   "outputs": [],
   "source": [
    "ba = compounds.bioactivities('CHEMBL579606')"
   ]
  },
  {
   "cell_type": "code",
   "execution_count": 3,
   "metadata": {
    "collapsed": false
   },
   "outputs": [
    {
     "data": {
      "text/html": [
       "<div>\n",
       "<table border=\"1\" class=\"dataframe\">\n",
       "  <thead>\n",
       "    <tr style=\"text-align: right;\">\n",
       "      <th></th>\n",
       "      <th>activity_comment</th>\n",
       "      <th>assay_chemblid</th>\n",
       "      <th>assay_description</th>\n",
       "      <th>assay_type</th>\n",
       "      <th>bioactivity_type</th>\n",
       "      <th>ingredient_cmpd_chemblid</th>\n",
       "      <th>name_in_reference</th>\n",
       "      <th>operator</th>\n",
       "      <th>organism</th>\n",
       "      <th>parent_cmpd_chemblid</th>\n",
       "      <th>reference</th>\n",
       "      <th>target_chemblid</th>\n",
       "      <th>target_confidence</th>\n",
       "      <th>target_name</th>\n",
       "      <th>units</th>\n",
       "      <th>value</th>\n",
       "    </tr>\n",
       "  </thead>\n",
       "  <tbody>\n",
       "    <tr>\n",
       "      <th>0</th>\n",
       "      <td>Unspecified</td>\n",
       "      <td>CHEMBL1054504</td>\n",
       "      <td>GSK_TCMDC: Percent inhibition of human HepG2 c...</td>\n",
       "      <td>F</td>\n",
       "      <td>Inhibition</td>\n",
       "      <td>CHEMBL579606</td>\n",
       "      <td>TCMDC-131369</td>\n",
       "      <td>=</td>\n",
       "      <td>Homo sapiens</td>\n",
       "      <td>CHEMBL534824</td>\n",
       "      <td>Nature, (2010) 465:7296:305</td>\n",
       "      <td>CHEMBL395</td>\n",
       "      <td>1</td>\n",
       "      <td>HepG2</td>\n",
       "      <td>%</td>\n",
       "      <td>59</td>\n",
       "    </tr>\n",
       "    <tr>\n",
       "      <th>1</th>\n",
       "      <td>Unspecified</td>\n",
       "      <td>CHEMBL3436042</td>\n",
       "      <td>ST_JUDE_LEISH: Cytotoxicity at 2uM final conce...</td>\n",
       "      <td>F</td>\n",
       "      <td>Inhibition</td>\n",
       "      <td>CHEMBL579606</td>\n",
       "      <td>TCMDC-131369</td>\n",
       "      <td>=</td>\n",
       "      <td>Homo sapiens</td>\n",
       "      <td>CHEMBL534824</td>\n",
       "      <td>Unspecified</td>\n",
       "      <td>CHEMBL2535</td>\n",
       "      <td>8</td>\n",
       "      <td>Glucose transporter</td>\n",
       "      <td>%</td>\n",
       "      <td>65.59</td>\n",
       "    </tr>\n",
       "    <tr>\n",
       "      <th>2</th>\n",
       "      <td>Unspecified</td>\n",
       "      <td>CHEMBL3436043</td>\n",
       "      <td>ST_JUDE_LEISH: Cytotoxicity at 2uM final conce...</td>\n",
       "      <td>F</td>\n",
       "      <td>Inhibition</td>\n",
       "      <td>CHEMBL579606</td>\n",
       "      <td>TCMDC-131369</td>\n",
       "      <td>=</td>\n",
       "      <td>Plasmodium falciparum</td>\n",
       "      <td>CHEMBL534824</td>\n",
       "      <td>Unspecified</td>\n",
       "      <td>CHEMBL4697</td>\n",
       "      <td>8</td>\n",
       "      <td>Hexose transporter 1</td>\n",
       "      <td>%</td>\n",
       "      <td>65.78</td>\n",
       "    </tr>\n",
       "    <tr>\n",
       "      <th>3</th>\n",
       "      <td>Unspecified</td>\n",
       "      <td>CHEMBL3436044</td>\n",
       "      <td>ST_JUDE_LEISH: Cytotoxicity at 2uM final conce...</td>\n",
       "      <td>F</td>\n",
       "      <td>Inhibition</td>\n",
       "      <td>CHEMBL579606</td>\n",
       "      <td>TCMDC-131369</td>\n",
       "      <td>=</td>\n",
       "      <td>Leishmania mexicana</td>\n",
       "      <td>CHEMBL534824</td>\n",
       "      <td>Unspecified</td>\n",
       "      <td>CHEMBL3431938</td>\n",
       "      <td>9</td>\n",
       "      <td>Glucose transporter</td>\n",
       "      <td>%</td>\n",
       "      <td>56.67</td>\n",
       "    </tr>\n",
       "    <tr>\n",
       "      <th>4</th>\n",
       "      <td>Unspecified</td>\n",
       "      <td>CHEMBL1054505</td>\n",
       "      <td>GSK_TCMDC: Inhibition Frequency Index (IFI). T...</td>\n",
       "      <td>F</td>\n",
       "      <td>IFI</td>\n",
       "      <td>CHEMBL579606</td>\n",
       "      <td>TCMDC-131369</td>\n",
       "      <td>=</td>\n",
       "      <td>Unspecified</td>\n",
       "      <td>CHEMBL534824</td>\n",
       "      <td>Nature, (2010) 465:7296:305</td>\n",
       "      <td>CHEMBL612545</td>\n",
       "      <td>Unspecified</td>\n",
       "      <td>Unchecked</td>\n",
       "      <td>%</td>\n",
       "      <td>5.22</td>\n",
       "    </tr>\n",
       "    <tr>\n",
       "      <th>5</th>\n",
       "      <td>Unspecified</td>\n",
       "      <td>CHEMBL1054500</td>\n",
       "      <td>GSK_TCMDC: Inhibition of Plasmodium falciparum...</td>\n",
       "      <td>F</td>\n",
       "      <td>Inhibition</td>\n",
       "      <td>CHEMBL579606</td>\n",
       "      <td>TCMDC-131369</td>\n",
       "      <td>=</td>\n",
       "      <td>Plasmodium falciparum</td>\n",
       "      <td>CHEMBL534824</td>\n",
       "      <td>Nature, (2010) 465:7296:305</td>\n",
       "      <td>CHEMBL364</td>\n",
       "      <td>1</td>\n",
       "      <td>Plasmodium falciparum</td>\n",
       "      <td>%</td>\n",
       "      <td>93</td>\n",
       "    </tr>\n",
       "    <tr>\n",
       "      <th>6</th>\n",
       "      <td>Unspecified</td>\n",
       "      <td>CHEMBL1054502</td>\n",
       "      <td>GSK_TCMDC: Inhibition of Plasmodium falciparum...</td>\n",
       "      <td>F</td>\n",
       "      <td>Inhibition</td>\n",
       "      <td>CHEMBL579606</td>\n",
       "      <td>TCMDC-131369</td>\n",
       "      <td>=</td>\n",
       "      <td>Plasmodium falciparum</td>\n",
       "      <td>CHEMBL534824</td>\n",
       "      <td>Nature, (2010) 465:7296:305</td>\n",
       "      <td>CHEMBL364</td>\n",
       "      <td>1</td>\n",
       "      <td>Plasmodium falciparum</td>\n",
       "      <td>%</td>\n",
       "      <td>Unspecified</td>\n",
       "    </tr>\n",
       "    <tr>\n",
       "      <th>7</th>\n",
       "      <td>Unspecified</td>\n",
       "      <td>CHEMBL1054501</td>\n",
       "      <td>GSK_TCMDC: Inhibition of Plasmodium falciparum...</td>\n",
       "      <td>F</td>\n",
       "      <td>Inhibition</td>\n",
       "      <td>CHEMBL579606</td>\n",
       "      <td>TCMDC-131369</td>\n",
       "      <td>=</td>\n",
       "      <td>Plasmodium falciparum</td>\n",
       "      <td>CHEMBL534824</td>\n",
       "      <td>Nature, (2010) 465:7296:305</td>\n",
       "      <td>CHEMBL364</td>\n",
       "      <td>1</td>\n",
       "      <td>Plasmodium falciparum</td>\n",
       "      <td>%</td>\n",
       "      <td>95</td>\n",
       "    </tr>\n",
       "    <tr>\n",
       "      <th>8</th>\n",
       "      <td>Unspecified</td>\n",
       "      <td>CHEMBL1054503</td>\n",
       "      <td>GSK_TCMDC: Inhibition of Plasmodium falciparum...</td>\n",
       "      <td>F</td>\n",
       "      <td>XC50</td>\n",
       "      <td>CHEMBL579606</td>\n",
       "      <td>TCMDC-131369</td>\n",
       "      <td>=</td>\n",
       "      <td>Plasmodium falciparum</td>\n",
       "      <td>CHEMBL534824</td>\n",
       "      <td>Nature, (2010) 465:7296:305</td>\n",
       "      <td>CHEMBL364</td>\n",
       "      <td>1</td>\n",
       "      <td>Plasmodium falciparum</td>\n",
       "      <td>nM</td>\n",
       "      <td>2.56</td>\n",
       "    </tr>\n",
       "  </tbody>\n",
       "</table>\n",
       "</div>"
      ],
      "text/plain": [
       "  activity_comment assay_chemblid  \\\n",
       "0      Unspecified  CHEMBL1054504   \n",
       "1      Unspecified  CHEMBL3436042   \n",
       "2      Unspecified  CHEMBL3436043   \n",
       "3      Unspecified  CHEMBL3436044   \n",
       "4      Unspecified  CHEMBL1054505   \n",
       "5      Unspecified  CHEMBL1054500   \n",
       "6      Unspecified  CHEMBL1054502   \n",
       "7      Unspecified  CHEMBL1054501   \n",
       "8      Unspecified  CHEMBL1054503   \n",
       "\n",
       "                                   assay_description assay_type  \\\n",
       "0  GSK_TCMDC: Percent inhibition of human HepG2 c...          F   \n",
       "1  ST_JUDE_LEISH: Cytotoxicity at 2uM final conce...          F   \n",
       "2  ST_JUDE_LEISH: Cytotoxicity at 2uM final conce...          F   \n",
       "3  ST_JUDE_LEISH: Cytotoxicity at 2uM final conce...          F   \n",
       "4  GSK_TCMDC: Inhibition Frequency Index (IFI). T...          F   \n",
       "5  GSK_TCMDC: Inhibition of Plasmodium falciparum...          F   \n",
       "6  GSK_TCMDC: Inhibition of Plasmodium falciparum...          F   \n",
       "7  GSK_TCMDC: Inhibition of Plasmodium falciparum...          F   \n",
       "8  GSK_TCMDC: Inhibition of Plasmodium falciparum...          F   \n",
       "\n",
       "  bioactivity_type ingredient_cmpd_chemblid name_in_reference operator  \\\n",
       "0       Inhibition             CHEMBL579606      TCMDC-131369        =   \n",
       "1       Inhibition             CHEMBL579606      TCMDC-131369        =   \n",
       "2       Inhibition             CHEMBL579606      TCMDC-131369        =   \n",
       "3       Inhibition             CHEMBL579606      TCMDC-131369        =   \n",
       "4              IFI             CHEMBL579606      TCMDC-131369        =   \n",
       "5       Inhibition             CHEMBL579606      TCMDC-131369        =   \n",
       "6       Inhibition             CHEMBL579606      TCMDC-131369        =   \n",
       "7       Inhibition             CHEMBL579606      TCMDC-131369        =   \n",
       "8             XC50             CHEMBL579606      TCMDC-131369        =   \n",
       "\n",
       "                organism parent_cmpd_chemblid                    reference  \\\n",
       "0           Homo sapiens         CHEMBL534824  Nature, (2010) 465:7296:305   \n",
       "1           Homo sapiens         CHEMBL534824                  Unspecified   \n",
       "2  Plasmodium falciparum         CHEMBL534824                  Unspecified   \n",
       "3    Leishmania mexicana         CHEMBL534824                  Unspecified   \n",
       "4            Unspecified         CHEMBL534824  Nature, (2010) 465:7296:305   \n",
       "5  Plasmodium falciparum         CHEMBL534824  Nature, (2010) 465:7296:305   \n",
       "6  Plasmodium falciparum         CHEMBL534824  Nature, (2010) 465:7296:305   \n",
       "7  Plasmodium falciparum         CHEMBL534824  Nature, (2010) 465:7296:305   \n",
       "8  Plasmodium falciparum         CHEMBL534824  Nature, (2010) 465:7296:305   \n",
       "\n",
       "  target_chemblid target_confidence            target_name units        value  \n",
       "0       CHEMBL395                 1                  HepG2     %           59  \n",
       "1      CHEMBL2535                 8    Glucose transporter     %        65.59  \n",
       "2      CHEMBL4697                 8   Hexose transporter 1     %        65.78  \n",
       "3   CHEMBL3431938                 9    Glucose transporter     %        56.67  \n",
       "4    CHEMBL612545       Unspecified              Unchecked     %         5.22  \n",
       "5       CHEMBL364                 1  Plasmodium falciparum     %           93  \n",
       "6       CHEMBL364                 1  Plasmodium falciparum     %  Unspecified  \n",
       "7       CHEMBL364                 1  Plasmodium falciparum     %           95  \n",
       "8       CHEMBL364                 1  Plasmodium falciparum    nM         2.56  "
      ]
     },
     "execution_count": 3,
     "metadata": {},
     "output_type": "execute_result"
    }
   ],
   "source": [
    "import pandas as pd\n",
    "df = pd.DataFrame(ba)\n",
    "df"
   ]
  },
  {
   "cell_type": "code",
   "execution_count": 4,
   "metadata": {
    "collapsed": false
   },
   "outputs": [
    {
     "name": "stdout",
     "output_type": "stream",
     "text": [
      "[Errno 2] No such file or directory: 'malaria/'\n",
      "/home/server2/Documents/malaria\n"
     ]
    }
   ],
   "source": [
    "%cd malaria/\n",
    "\n",
    "df_GAMO = pd.read_csv(\"GAMO_FPdata_standardized_Tanimoto_0.7.csv\") # 151505\n",
    "chembl_id = df_GAMO['CHEMBL_ID']\n"
   ]
  },
  {
   "cell_type": "code",
   "execution_count": 5,
   "metadata": {
    "collapsed": false
   },
   "outputs": [
    {
     "name": "stdout",
     "output_type": "stream",
     "text": [
      "/home/server2/Documents/malaria\r\n"
     ]
    }
   ],
   "source": [
    "!pwd"
   ]
  },
  {
   "cell_type": "code",
   "execution_count": 6,
   "metadata": {
    "collapsed": false
   },
   "outputs": [
    {
     "data": {
      "text/plain": [
       "'CHEMBL579606'"
      ]
     },
     "execution_count": 6,
     "metadata": {},
     "output_type": "execute_result"
    }
   ],
   "source": [
    "chembl_id[0]\n",
    "#ba = compounds.bioactivities('CHEMBL579606')"
   ]
  },
  {
   "cell_type": "code",
   "execution_count": 7,
   "metadata": {
    "collapsed": false
   },
   "outputs": [
    {
     "name": "stdout",
     "output_type": "stream",
     "text": [
      "/home/server2/Documents/malaria/Compound_Bioactivities\n"
     ]
    }
   ],
   "source": [
    "%cd Compound_Bioactivities/\n",
    "import time"
   ]
  },
  {
   "cell_type": "code",
   "execution_count": 8,
   "metadata": {
    "collapsed": false
   },
   "outputs": [
    {
     "name": "stdout",
     "output_type": "stream",
     "text": [
      "/home/server2/Documents/malaria/Compound_Bioactivities\r\n"
     ]
    }
   ],
   "source": [
    "!pwd"
   ]
  },
  {
   "cell_type": "code",
   "execution_count": 10,
   "metadata": {
    "collapsed": false
   },
   "outputs": [],
   "source": [
    "for i in range(100):\n",
    "    time.sleep(1)\n",
    "    ba = compounds.bioactivities(chembl_id[i])\n",
    "    df = pd.DataFrame(ba)\n",
    "    df.to_csv(chembl_id[i] + \".csv\", sep = '\\t', index = False)\n",
    "    "
   ]
  },
  {
   "cell_type": "code",
   "execution_count": 21,
   "metadata": {
    "collapsed": false
   },
   "outputs": [
    {
     "name": "stdout",
     "output_type": "stream",
     "text": [
      "None\n",
      "None\n",
      "None\n",
      "None\n",
      "None\n",
      "None\n",
      "None\n",
      "None\n",
      "None\n",
      "None\n"
     ]
    }
   ],
   "source": [
    "for i in range(10):\n",
    "    ba = compounds.bioactivities(chembl_id[i])\n",
    "    print ba"
   ]
  },
  {
   "cell_type": "code",
   "execution_count": 22,
   "metadata": {
    "collapsed": false
   },
   "outputs": [],
   "source": [
    "import pandas as pd\n",
    "yes = compounds.bioactivities(chembl_id[0])"
   ]
  },
  {
   "cell_type": "code",
   "execution_count": 23,
   "metadata": {
    "collapsed": false
   },
   "outputs": [],
   "source": [
    "yes"
   ]
  },
  {
   "cell_type": "code",
   "execution_count": 36,
   "metadata": {
    "collapsed": false
   },
   "outputs": [
    {
     "data": {
      "text/plain": [
       "[{u'activity_comment': u'Unspecified',\n",
       "  u'assay_chemblid': u'CHEMBL1054504',\n",
       "  u'assay_description': u'GSK_TCMDC: Percent inhibition of human HepG2 cell line. Test compounds present at 10uM.',\n",
       "  u'assay_type': u'F',\n",
       "  u'bioactivity_type': u'Inhibition',\n",
       "  u'ingredient_cmpd_chemblid': u'CHEMBL579606',\n",
       "  u'name_in_reference': u'TCMDC-131369',\n",
       "  u'operator': u'=',\n",
       "  u'organism': u'Homo sapiens',\n",
       "  u'parent_cmpd_chemblid': u'CHEMBL534824',\n",
       "  u'reference': u'Nature, (2010) 465:7296:305',\n",
       "  u'target_chemblid': u'CHEMBL395',\n",
       "  u'target_confidence': 1,\n",
       "  u'target_name': u'HepG2',\n",
       "  u'units': u'%',\n",
       "  u'value': u'59'},\n",
       " {u'activity_comment': u'Unspecified',\n",
       "  u'assay_chemblid': u'CHEMBL3436042',\n",
       "  u'assay_description': u'ST_JUDE_LEISH: Cytotoxicity at 2uM final concentration against transgenic Leishmania Mexicana promastigotes LmGLUT1 that are glucose transport deficient and complemented with the human glucose transporter GLUT1. Activity is measured by DNA content using SYBR green in vitro',\n",
       "  u'assay_type': u'F',\n",
       "  u'bioactivity_type': u'Inhibition',\n",
       "  u'ingredient_cmpd_chemblid': u'CHEMBL579606',\n",
       "  u'name_in_reference': u'TCMDC-131369',\n",
       "  u'operator': u'=',\n",
       "  u'organism': u'Homo sapiens',\n",
       "  u'parent_cmpd_chemblid': u'CHEMBL534824',\n",
       "  u'reference': u'Unspecified',\n",
       "  u'target_chemblid': u'CHEMBL2535',\n",
       "  u'target_confidence': 8,\n",
       "  u'target_name': u'Glucose transporter',\n",
       "  u'units': u'%',\n",
       "  u'value': u'65.59'},\n",
       " {u'activity_comment': u'Unspecified',\n",
       "  u'assay_chemblid': u'CHEMBL3436043',\n",
       "  u'assay_description': u'ST_JUDE_LEISH: Cytotoxicity at 2uM final concentration against transgenic Leishmania Mexicana promastigotes LmPfHT that are glucose transport deficient and complemented with the Plasmodium falciparum hexose transporter. Activity is measured by by DNA content using SYBR green in vitro',\n",
       "  u'assay_type': u'F',\n",
       "  u'bioactivity_type': u'Inhibition',\n",
       "  u'ingredient_cmpd_chemblid': u'CHEMBL579606',\n",
       "  u'name_in_reference': u'TCMDC-131369',\n",
       "  u'operator': u'=',\n",
       "  u'organism': u'Plasmodium falciparum',\n",
       "  u'parent_cmpd_chemblid': u'CHEMBL534824',\n",
       "  u'reference': u'Unspecified',\n",
       "  u'target_chemblid': u'CHEMBL4697',\n",
       "  u'target_confidence': 8,\n",
       "  u'target_name': u'Hexose transporter 1',\n",
       "  u'units': u'%',\n",
       "  u'value': u'65.78'},\n",
       " {u'activity_comment': u'Unspecified',\n",
       "  u'assay_chemblid': u'CHEMBL3436044',\n",
       "  u'assay_description': u'ST_JUDE_LEISH: Cytotoxicity at 2uM final concentration against transgenic Leishmania Mexicana promastigotes LmGT2 that are glucose transport deficient and complemented with the L. Mexicana glucose transporter 2. Activity is measured by by DNA content using SYBR green in vitro',\n",
       "  u'assay_type': u'F',\n",
       "  u'bioactivity_type': u'Inhibition',\n",
       "  u'ingredient_cmpd_chemblid': u'CHEMBL579606',\n",
       "  u'name_in_reference': u'TCMDC-131369',\n",
       "  u'operator': u'=',\n",
       "  u'organism': u'Leishmania mexicana',\n",
       "  u'parent_cmpd_chemblid': u'CHEMBL534824',\n",
       "  u'reference': u'Unspecified',\n",
       "  u'target_chemblid': u'CHEMBL3431938',\n",
       "  u'target_confidence': 9,\n",
       "  u'target_name': u'Glucose transporter',\n",
       "  u'units': u'%',\n",
       "  u'value': u'56.67'},\n",
       " {u'activity_comment': u'Unspecified',\n",
       "  u'assay_chemblid': u'CHEMBL1054505',\n",
       "  u'assay_description': u'GSK_TCMDC: Inhibition Frequency Index (IFI). The number of non-kinase HTS assays where a compound showed > 50 % inhibition, expressed as a percentage of the number of such assays in which the compound was tested',\n",
       "  u'assay_type': u'F',\n",
       "  u'bioactivity_type': u'IFI',\n",
       "  u'ingredient_cmpd_chemblid': u'CHEMBL579606',\n",
       "  u'name_in_reference': u'TCMDC-131369',\n",
       "  u'operator': u'=',\n",
       "  u'organism': u'Unspecified',\n",
       "  u'parent_cmpd_chemblid': u'CHEMBL534824',\n",
       "  u'reference': u'Nature, (2010) 465:7296:305',\n",
       "  u'target_chemblid': u'CHEMBL612545',\n",
       "  u'target_confidence': u'Unspecified',\n",
       "  u'target_name': u'Unchecked',\n",
       "  u'units': u'%',\n",
       "  u'value': u'5.22'},\n",
       " {u'activity_comment': u'Unspecified',\n",
       "  u'assay_chemblid': u'CHEMBL1054500',\n",
       "  u'assay_description': u'GSK_TCMDC: Inhibition of Plasmodium falciparum 3D7 in whole red blood cells, using parasite LDH activity as an index of growth. Test compounds present at 2uM',\n",
       "  u'assay_type': u'F',\n",
       "  u'bioactivity_type': u'Inhibition',\n",
       "  u'ingredient_cmpd_chemblid': u'CHEMBL579606',\n",
       "  u'name_in_reference': u'TCMDC-131369',\n",
       "  u'operator': u'=',\n",
       "  u'organism': u'Plasmodium falciparum',\n",
       "  u'parent_cmpd_chemblid': u'CHEMBL534824',\n",
       "  u'reference': u'Nature, (2010) 465:7296:305',\n",
       "  u'target_chemblid': u'CHEMBL364',\n",
       "  u'target_confidence': 1,\n",
       "  u'target_name': u'Plasmodium falciparum',\n",
       "  u'units': u'%',\n",
       "  u'value': u'93'},\n",
       " {u'activity_comment': u'Unspecified',\n",
       "  u'assay_chemblid': u'CHEMBL1054502',\n",
       "  u'assay_description': u'GSK_TCMDC: Inhibition of Plasmodium falciparum 3D7 LDH activity, using an LDH reporter assay. Test compounds present at 2uM',\n",
       "  u'assay_type': u'F',\n",
       "  u'bioactivity_type': u'Inhibition',\n",
       "  u'ingredient_cmpd_chemblid': u'CHEMBL579606',\n",
       "  u'name_in_reference': u'TCMDC-131369',\n",
       "  u'operator': u'=',\n",
       "  u'organism': u'Plasmodium falciparum',\n",
       "  u'parent_cmpd_chemblid': u'CHEMBL534824',\n",
       "  u'reference': u'Nature, (2010) 465:7296:305',\n",
       "  u'target_chemblid': u'CHEMBL364',\n",
       "  u'target_confidence': 1,\n",
       "  u'target_name': u'Plasmodium falciparum',\n",
       "  u'units': u'%',\n",
       "  u'value': u'Unspecified'},\n",
       " {u'activity_comment': u'Unspecified',\n",
       "  u'assay_chemblid': u'CHEMBL1054501',\n",
       "  u'assay_description': u'GSK_TCMDC: Inhibition of Plasmodium falciparum Dd2 in whole red blood cells, using parasite LDH activity as an index of growth. Test compounds present at 2uM',\n",
       "  u'assay_type': u'F',\n",
       "  u'bioactivity_type': u'Inhibition',\n",
       "  u'ingredient_cmpd_chemblid': u'CHEMBL579606',\n",
       "  u'name_in_reference': u'TCMDC-131369',\n",
       "  u'operator': u'=',\n",
       "  u'organism': u'Plasmodium falciparum',\n",
       "  u'parent_cmpd_chemblid': u'CHEMBL534824',\n",
       "  u'reference': u'Nature, (2010) 465:7296:305',\n",
       "  u'target_chemblid': u'CHEMBL364',\n",
       "  u'target_confidence': 1,\n",
       "  u'target_name': u'Plasmodium falciparum',\n",
       "  u'units': u'%',\n",
       "  u'value': u'95'},\n",
       " {u'activity_comment': u'Unspecified',\n",
       "  u'assay_chemblid': u'CHEMBL1054503',\n",
       "  u'assay_description': u'GSK_TCMDC: Inhibition of Plasmodium falciparum 3D7 in whole erythrocytes, using parasite LDH activity as an index of growth.',\n",
       "  u'assay_type': u'F',\n",
       "  u'bioactivity_type': u'XC50',\n",
       "  u'ingredient_cmpd_chemblid': u'CHEMBL579606',\n",
       "  u'name_in_reference': u'TCMDC-131369',\n",
       "  u'operator': u'=',\n",
       "  u'organism': u'Plasmodium falciparum',\n",
       "  u'parent_cmpd_chemblid': u'CHEMBL534824',\n",
       "  u'reference': u'Nature, (2010) 465:7296:305',\n",
       "  u'target_chemblid': u'CHEMBL364',\n",
       "  u'target_confidence': 1,\n",
       "  u'target_name': u'Plasmodium falciparum',\n",
       "  u'units': u'nM',\n",
       "  u'value': u'2.56'}]"
      ]
     },
     "execution_count": 36,
     "metadata": {},
     "output_type": "execute_result"
    }
   ],
   "source": [
    "#ba = compounds.bioactivities('CHEMBL579606')\n",
    "#ba\n",
    "ba = compounds.bioactivities(chembl_id[0])\n",
    "ba"
   ]
  }
 ],
 "metadata": {
  "kernelspec": {
   "display_name": "Python 2",
   "language": "python",
   "name": "python2"
  },
  "language_info": {
   "codemirror_mode": {
    "name": "ipython",
    "version": 2
   },
   "file_extension": ".py",
   "mimetype": "text/x-python",
   "name": "python",
   "nbconvert_exporter": "python",
   "pygments_lexer": "ipython2",
   "version": "2.7.11"
  }
 },
 "nbformat": 4,
 "nbformat_minor": 0
}
