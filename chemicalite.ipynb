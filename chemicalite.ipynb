{
 "cells": [
  {
   "cell_type": "code",
   "execution_count": 1,
   "metadata": {
    "collapsed": false
   },
   "outputs": [],
   "source": [
    "import sys\n",
    "import csv\n",
    "\n",
    "import apsw\n",
    "\n",
    "from rdkit import Chem\n",
    "\n",
    "def chembl(path, limit=None):\n",
    "    '''Parse the ChEMBLdb CSV format and return the chembl_id, smiles fields'''\n",
    "\n",
    "    with open(path, 'rt') as inputfile:\n",
    "        reader = csv.reader(inputfile, delimiter='\\t', skipinitialspace=True)\n",
    "        next(reader) # skip header line\n",
    "        \n",
    "        counter = 0\n",
    "        #for chembl_id, smiles in reader:\n",
    "        for chembl_id, smiles, inchi, inchi_key in reader:\n",
    "            \n",
    "            # skip problematic compounds\n",
    "            if len(smiles) > 300: continue\n",
    "            smiles = smiles.replace('=N#N','=[N+]=[N-]')\n",
    "            smiles = smiles.replace('N#N=','[N-]=[N+]=')\n",
    "            if not Chem.MolFromSmiles(smiles): continue\n",
    "            \n",
    "            yield chembl_id, smiles\n",
    "            counter += 1\n",
    "            if counter == limit:\n",
    "                break\n",
    "\n",
    "def createdb(chemicalite_path, chembl_path):\n",
    "    '''Initialize a database schema and load the ChEMBLdb data'''\n",
    "\n",
    "    connection = apsw.Connection('paul_chembldb.sql')\n",
    "    connection.enableloadextension(True)\n",
    "    connection.loadextension(chemicalite_path)\n",
    "    connection.enableloadextension(False)\n",
    "\n",
    "    cursor = connection.cursor()\n",
    "    \n",
    "    cursor.execute(\"PRAGMA page_size=4096\")\n",
    "\n",
    "    cursor.execute(\"CREATE TABLE chembl(id INTEGER PRIMARY KEY, \"\n",
    "                   \"chembl_id TEXT, smiles TEXT, molecule MOL)\")\n",
    "\n",
    "    cursor.execute(\"SELECT create_molecule_rdtree('chembl', 'molecule')\")\n",
    "\n",
    "    cursor.execute(\"BEGIN\")\n",
    "    \n",
    "    for chembl_id, smiles in chembl(chembl_path):\n",
    "        cursor.execute(\"INSERT INTO chembl(chembl_id, smiles, molecule) \"\n",
    "                       \"VALUES(?, ?, mol(?))\", (chembl_id, smiles, smiles))\n",
    "\n",
    "    cursor.execute(\"COMMIT\")\n",
    "    \n"
   ]
  },
  {
   "cell_type": "code",
   "execution_count": 20,
   "metadata": {
    "collapsed": false,
    "scrolled": true
   },
   "outputs": [],
   "source": [
    "chemicalite_path = \"/home/server2/Documents/malaria/chembl_21_sqlite/chemicalite/chemicalite.so\"\n",
    "chembl_path = \"/home/server2/Documents/malaria/paul_standardized_chembl_21.txt\"\n",
    "chembldb_sql = \"/home/server2/Documents/malaria/paul_chembldb.sql\"\n",
    "createdb(chemicalite_path, chembl_path)"
   ]
  },
  {
   "cell_type": "code",
   "execution_count": 21,
   "metadata": {
    "collapsed": true
   },
   "outputs": [],
   "source": [
    "from __future__ import print_function\n",
    "\n",
    "import sys\n",
    "import csv\n",
    "\n",
    "import apsw\n",
    "\n",
    "def createbfp(chemicalite_path, chembldb_path):\n",
    "    '''Create indexed virtual tables containing the bfp data'''\n",
    "\n",
    "    connection = apsw.Connection(chembldb_path)\n",
    "    connection.enableloadextension(True)\n",
    "    connection.loadextension(chemicalite_path)\n",
    "    connection.enableloadextension(False)\n",
    "\n",
    "    cursor = connection.cursor()\n",
    "    \n",
    "    # sorry for the hard-coded bfp sizes in bytes (128, 64). \n",
    "    # I will fix this\n",
    "    cursor.execute(\"CREATE VIRTUAL TABLE torsion USING rdtree(id, bfp bytes(128))\");\n",
    "    cursor.execute(\"CREATE VIRTUAL TABLE morgan USING rdtree(id, bfp bytes(64))\");\n",
    "    cursor.execute(\"CREATE VIRTUAL TABLE feat_morgan USING rdtree(id, bfp bytes(64))\");\n",
    "\n",
    "    cursor.execute(\"INSERT INTO torsion(id, bfp) SELECT id, mol_topological_torsion_bfp(molecule) FROM chembl\")\n",
    "    cursor.execute(\"INSERT INTO morgan(id, bfp) SELECT id, mol_morgan_bfp(molecule, 2) FROM chembl\")\n",
    "    cursor.execute(\"INSERT INTO feat_morgan(id, bfp) SELECT id, mol_feat_morgan_bfp(molecule, 2) FROM chembl\")\n",
    "\n"
   ]
  },
  {
   "cell_type": "code",
   "execution_count": 22,
   "metadata": {
    "collapsed": false
   },
   "outputs": [],
   "source": [
    "chemicalite_path = \"/home/server2/Documents/malaria/chembl_21_sqlite/chemicalite/chemicalite.so\"\n",
    "chembl_path = \"/home/server2/Documents/malaria/paul_standardized_chembl_21.txt\"\n",
    "chembldb_sql = \"/home/server2/Documents/malaria/paul_chembldb.sql\"\n",
    "createbfp(chemicalite_path, chembldb_sql)"
   ]
  },
  {
   "cell_type": "code",
   "execution_count": 6,
   "metadata": {
    "collapsed": true
   },
   "outputs": [],
   "source": [
    "from __future__ import print_function\n",
    "\n",
    "import sys\n",
    "import time\n",
    "\n",
    "import apsw\n",
    "\n",
    "def search(c, target, threshold):\n",
    "    t1 = time.time()\n",
    "    rs = c.execute(\n",
    "        \"SELECT c.chembl_id, c.smiles, \"\n",
    "        \"bfp_tanimoto(mol_morgan_bfp(c.molecule, 2), mol_morgan_bfp(?, 2)) as t \"\n",
    "        \"FROM \"\n",
    "        \"chembl as c JOIN \"\n",
    "        \"(SELECT id FROM morgan WHERE \"\n",
    "        \"id match rdtree_tanimoto(mol_morgan_bfp(?, 2), ?)) as idx \"\n",
    "        \"USING(id) ORDER BY t DESC\",\n",
    "        (target, target, threshold)).fetchall()\n",
    "    t2 = time.time()\n",
    "    return rs, t2-t1\n",
    "\n",
    "def tanimoto_search(chemicalite_path, chembldb_sql, target, threshold):\n",
    "    connection = apsw.Connection(chembldb_sql)\n",
    "    connection.enableloadextension(True)\n",
    "    connection.loadextension(chemicalite_path)\n",
    "    connection.enableloadextension(False)\n",
    "\n",
    "    cursor = connection.cursor()\n",
    "\n",
    "    print('searching for target:', target)\n",
    "\n",
    "    matches, t = search(cursor, target, float(threshold))\n",
    "    for match in matches:\n",
    "        print(match[0], match[1], match[2])\n",
    "    print('Found {0} matches in {1} seconds'.format(len(matches), t))\n",
    "\n",
    "\n"
   ]
  },
  {
   "cell_type": "code",
   "execution_count": null,
   "metadata": {
    "collapsed": false
   },
   "outputs": [
    {
     "name": "stdout",
     "output_type": "stream",
     "text": [
      "searching for target: Cc1nc(N)nc(N)c1OCCCOc1cccc(Cl)c1Cl\n"
     ]
    }
   ],
   "source": [
    "chemicalite_path = \"/home/server2/Documents/malaria/chembl_21_sqlite/chemicalite/chemicalite.so\"\n",
    "chembl_path = \"/home/server2/Documents/malaria/paul_standardized_chembl_21.txt\"\n",
    "chembldb_sql = \"/home/server2/Documents/malaria/paul_chembldb.sql\"\n",
    "target = \"Cc1nc(N)nc(N)c1OCCCOc1cccc(Cl)c1Cl\"\n",
    "threshold = 0.9\n",
    "tanimoto_search(chemicalite_path, chembldb_sql, target, threshold)"
   ]
  },
  {
   "cell_type": "code",
   "execution_count": 2,
   "metadata": {
    "collapsed": true
   },
   "outputs": [],
   "source": [
    "import pandas as pd\n",
    "df = pd.read_csv(\"GAMO_PFdata_200115.csv\")\n"
   ]
  },
  {
   "cell_type": "code",
   "execution_count": 3,
   "metadata": {
    "collapsed": false
   },
   "outputs": [],
   "source": [
    "smiles = df['smiles'] #13403\n",
    "orig_TCMDCID = df['ORIG_TCMDCID']"
   ]
  },
  {
   "cell_type": "code",
   "execution_count": 39,
   "metadata": {
    "collapsed": false
   },
   "outputs": [
    {
     "name": "stdout",
     "output_type": "stream",
     "text": [
      "searching for target: Cc1nc(N)nc(N)c1OCCCOc1cccc(Cl)c1Cl\n",
      "CHEMBL534824 Cc1nc(N)nc(N)c1OCCCOc2cccc(Cl)c2Cl 1.0\n",
      "CHEMBL579606 Cl.Cc1nc(N)nc(N)c1OCCCOc2cccc(Cl)c2Cl 0.95\n",
      "Found 2 matches in 0.0659239292145 seconds\n",
      "None\n",
      "searching for target: CC1(C)NC(N)=NC(=N)N1OCCCOc1c(Cl)cc(Cl)cc1Cl\n",
      "CHEMBL530506 CC1(C)NC(=NC(=N)N1OCCCOc2c(Cl)cc(Cl)cc2Cl)N 1.0\n",
      "CHEMBL532396 Br.CC1(C)NC(=NC(=N)N1OCCCOc2c(Cl)cc(Cl)cc2Cl)N 0.953488372093\n",
      "Found 2 matches in 0.0416920185089 seconds\n",
      "None\n",
      "searching for target: CC1(C)NC(N)=NC(=N)N1OCCOc1cccc(c1)C(F)(F)F\n",
      "CHEMBL580973 CC1(C)NC(=NC(=N)N1OCCOc2cccc(c2)C(F)(F)F)N 1.0\n",
      "CHEMBL548336 Br.CC1(C)NC(=NC(=N)N1OCCOc2cccc(c2)C(F)(F)F)N 0.96\n",
      "Found 2 matches in 0.0294108390808 seconds\n",
      "None\n",
      "searching for target: Cc1ccc(CON2C(=N)N=C(N)NC2(C)C)cc1C\n",
      "CHEMBL533166 Cc1ccc(CON2C(=N)N=C(N)NC2(C)C)cc1C 1.0\n",
      "CHEMBL530088 Cl.Cc1ccc(CON2C(=N)N=C(N)NC2(C)C)cc1C 0.952380952381\n",
      "Found 2 matches in 0.0576150417328 seconds\n",
      "None\n",
      "searching for target: CCC(C)(C)n1c(C)cc2c1ccc1nc(N)nc(N)c21\n",
      "CHEMBL424170 CCC(C)(C)n1c(C)cc2c3c(N)nc(N)nc3ccc12 1.0\n",
      "Found 1 matches in 0.0705299377441 seconds\n",
      "None\n",
      "searching for target: CC1(C)NC(N)=NC(=N)N1OCCSc1ccccc1\n",
      "CHEMBL580621 CC1(C)NC(=NC(=N)N1OCCSc2ccccc2)N 1.0\n",
      "CHEMBL582140 Br.CC1(C)NC(=NC(=N)N1OCCSc2ccccc2)N 0.951219512195\n",
      "Found 2 matches in 0.0353569984436 seconds\n",
      "None\n",
      "searching for target: COc1ccccc1CCCON1C(=N)N=C(N)NC1(C)C\n",
      "CHEMBL586107 COc1ccccc1CCCON2C(=N)N=C(N)NC2(C)C 1.0\n",
      "CHEMBL526221 Br.COc1ccccc1CCCON2C(=N)N=C(N)NC2(C)C 0.95652173913\n",
      "Found 2 matches in 0.0557429790497 seconds\n",
      "None\n",
      "searching for target: CCCOc1ccc(OCCCON2C(=N)N=C(N)NC2(C)C)cc1\n",
      "CHEMBL545806 CCCOc1ccc(OCCCON2C(=N)N=C(N)NC2(C)C)cc1 1.0\n",
      "CHEMBL588494 Br.CCCOc1ccc(OCCCON2C(=N)N=C(N)NC2(C)C)cc1 0.953488372093\n",
      "Found 2 matches in 0.0464210510254 seconds\n",
      "None\n",
      "searching for target: CCc1cccc(OCCCON2C(=N)N=C(N)NC2(C)C)c1\n",
      "CHEMBL533683 CCc1cccc(OCCCON2C(=N)N=C(N)NC2(C)C)c1 1.0\n",
      "CHEMBL582130 Br.CCc1cccc(OCCCON2C(=N)N=C(N)NC2(C)C)c1 0.959183673469\n",
      "Found 2 matches in 0.0329048633575 seconds\n",
      "None\n",
      "searching for target: CC1(C)NC(N)=NC(=N)N1OCCCc1cccc(c1)C(F)(F)F\n",
      "CHEMBL546606 CC1(C)NC(=NC(=N)N1OCCCc2cccc(c2)C(F)(F)F)N 1.0\n",
      "CHEMBL531556 Br.CC1(C)NC(=NC(=N)N1OCCCc2cccc(c2)C(F)(F)F)N 0.96\n",
      "Found 2 matches in 0.036306142807 seconds\n",
      "None\n"
     ]
    }
   ],
   "source": [
    "chemicalite_path = \"/home/server2/Documents/malaria/chembl_21_sqlite/chemicalite/chemicalite.so\"\n",
    "chembl_path = \"/home/server2/Documents/malaria/paul_standardized_chembl_21.txt\"\n",
    "chembldb_sql = \"/home/server2/Documents/malaria/paul_chembldb.sql\"\n",
    "target = \"Cc1nc(N)nc(N)c1OCCCOc1cccc(Cl)c1Cl\"\n",
    "threshold = 0.90\n",
    "\n",
    "def tanimoto_search(chemicalite_path, chembldb_sql, target, threshold):\n",
    "    connection = apsw.Connection(chembldb_sql)\n",
    "    connection.enableloadextension(True)\n",
    "    connection.loadextension(chemicalite_path)\n",
    "    connection.enableloadextension(False)\n",
    "\n",
    "    cursor = connection.cursor()\n",
    "\n",
    "    print('searching for target:', target)\n",
    "\n",
    "    matches, t = search(cursor, target, float(threshold))\n",
    "    for match in matches:\n",
    "        print(match[0], match[1], match[2])\n",
    "    print('Found {0} matches in {1} seconds'.format(len(matches), t))\n",
    "\n",
    "\n",
    "\n",
    "results = []\n",
    "for i in range(10):\n",
    "    matrix = tanimoto_search(chemicalite_path, chembldb_sql, smiles[i], threshold)\n",
    "    print(matrix)\n",
    "    \n",
    "    "
   ]
  },
  {
   "cell_type": "code",
   "execution_count": 110,
   "metadata": {
    "collapsed": false
   },
   "outputs": [
    {
     "name": "stdout",
     "output_type": "stream",
     "text": [
      "/home/server2/Documents/malaria/0.7\n"
     ]
    }
   ],
   "source": [
    "%cd 0.7"
   ]
  },
  {
   "cell_type": "code",
   "execution_count": 4,
   "metadata": {
    "collapsed": false
   },
   "outputs": [
    {
     "ename": "NameError",
     "evalue": "name 'chembldb_sql' is not defined",
     "output_type": "error",
     "traceback": [
      "\u001b[1;31m---------------------------------------------------------------------------\u001b[0m",
      "\u001b[1;31mNameError\u001b[0m                                 Traceback (most recent call last)",
      "\u001b[1;32m<ipython-input-4-b5e35569a2cf>\u001b[0m in \u001b[0;36m<module>\u001b[1;34m()\u001b[0m\n\u001b[1;32m----> 1\u001b[1;33m \u001b[0mconnection\u001b[0m \u001b[1;33m=\u001b[0m \u001b[0mapsw\u001b[0m\u001b[1;33m.\u001b[0m\u001b[0mConnection\u001b[0m\u001b[1;33m(\u001b[0m\u001b[0mchembldb_sql\u001b[0m\u001b[1;33m)\u001b[0m\u001b[1;33m\u001b[0m\u001b[0m\n\u001b[0m\u001b[0;32m      2\u001b[0m \u001b[0mconnection\u001b[0m\u001b[1;33m.\u001b[0m\u001b[0menableloadextension\u001b[0m\u001b[1;33m(\u001b[0m\u001b[0mTrue\u001b[0m\u001b[1;33m)\u001b[0m\u001b[1;33m\u001b[0m\u001b[0m\n\u001b[0;32m      3\u001b[0m \u001b[0mconnection\u001b[0m\u001b[1;33m.\u001b[0m\u001b[0mloadextension\u001b[0m\u001b[1;33m(\u001b[0m\u001b[0mchemicalite_path\u001b[0m\u001b[1;33m)\u001b[0m\u001b[1;33m\u001b[0m\u001b[0m\n\u001b[0;32m      4\u001b[0m \u001b[0mconnection\u001b[0m\u001b[1;33m.\u001b[0m\u001b[0menableloadextension\u001b[0m\u001b[1;33m(\u001b[0m\u001b[0mFalse\u001b[0m\u001b[1;33m)\u001b[0m\u001b[1;33m\u001b[0m\u001b[0m\n\u001b[0;32m      5\u001b[0m \u001b[1;33m\u001b[0m\u001b[0m\n",
      "\u001b[1;31mNameError\u001b[0m: name 'chembldb_sql' is not defined"
     ]
    }
   ],
   "source": [
    "connection = apsw.Connection(chembldb_sql)\n",
    "connection.enableloadextension(True)\n",
    "connection.loadextension(chemicalite_path)\n",
    "connection.enableloadextension(False)\n",
    "\n",
    "cursor = connection.cursor()\n",
    "#target = \"CCc1cccc(OCCCON2C(=N)N=C(N)NC2(C)C)c1\"\n",
    "threshold = 0.6\n",
    "print('searching for target:', target)\n",
    "\n",
    "matches, t = search(cursor, target, float(threshold))\n",
    "results = []\n",
    "\n",
    "for i in range(13403):\n",
    "    #matrix = tanimoto_search(chemicalite_path, chembldb_sql, smiles[i], threshold)\n",
    "    matches, t = search(cursor, smiles[i], float(threshold))\n",
    "    #data_frame = pd.DataFrame(results[i], columns=[\"CHEMBL_ID\", \"SMILES\", \"Similarity\"])\n",
    "    results.append(matches)\n"
   ]
  },
  {
   "cell_type": "code",
   "execution_count": 28,
   "metadata": {
    "collapsed": false
   },
   "outputs": [
    {
     "name": "stdout",
     "output_type": "stream",
     "text": [
      "/home/server2/Documents/malaria/ChEMBL_FPdata_standardized_Tanimoto_0.7\n"
     ]
    }
   ],
   "source": [
    "%cd ChEMBL_FPdata_standardized_Tanimoto_0.6/"
   ]
  },
  {
   "cell_type": "code",
   "execution_count": 29,
   "metadata": {
    "collapsed": false
   },
   "outputs": [],
   "source": [
    "import pandas as pd\n",
    "import numpy as np\n",
    "\n",
    "csvs = []\n",
    "\n",
    "for i in range(13403):\n",
    "    data_frame = pd.DataFrame(results[i], columns=[\"CHEMBL_ID\", \"SMILES\", \"Similarity\"]) \n",
    "    ##data_frame.to_csv(str(smiles[i].split(\"\\\\/\")[0]) + \".csv\", sep = '\\t', index = False)\n",
    "    data_frame.to_csv(orig_TCMDCID[i] + \".csv\", sep = '\\t', index = False)\n",
    "    #csvs.append(data_frame)\n",
    "    #smiles[1].split(\"\\\\\")\n",
    "    #df.to_csv(data_frame + \".csv\", sep='\\t')\n",
    "    "
   ]
  },
  {
   "cell_type": "code",
   "execution_count": 108,
   "metadata": {
    "collapsed": false
   },
   "outputs": [
    {
     "data": {
      "text/html": [
       "<div>\n",
       "<table border=\"1\" class=\"dataframe\">\n",
       "  <thead>\n",
       "    <tr style=\"text-align: right;\">\n",
       "      <th></th>\n",
       "      <th>CHEMBL_ID</th>\n",
       "      <th>SMILES</th>\n",
       "      <th>Similarity</th>\n",
       "    </tr>\n",
       "  </thead>\n",
       "  <tbody>\n",
       "    <tr>\n",
       "      <th>0</th>\n",
       "      <td>CHEMBL533166</td>\n",
       "      <td>Cc1ccc(CON2C(=N)N=C(N)NC2(C)C)cc1C</td>\n",
       "      <td>1.000000</td>\n",
       "    </tr>\n",
       "    <tr>\n",
       "      <th>1</th>\n",
       "      <td>CHEMBL530088</td>\n",
       "      <td>Cl.Cc1ccc(CON2C(=N)N=C(N)NC2(C)C)cc1C</td>\n",
       "      <td>0.952381</td>\n",
       "    </tr>\n",
       "    <tr>\n",
       "      <th>2</th>\n",
       "      <td>CHEMBL548854</td>\n",
       "      <td>COc1ccc(CON2C(=N)N=C(N)NC2(C)C)cc1OC</td>\n",
       "      <td>0.765957</td>\n",
       "    </tr>\n",
       "    <tr>\n",
       "      <th>3</th>\n",
       "      <td>CHEMBL527580</td>\n",
       "      <td>Cl.COc1ccc(CON2C(=N)N=C(N)NC2(C)C)cc1OC</td>\n",
       "      <td>0.734694</td>\n",
       "    </tr>\n",
       "    <tr>\n",
       "      <th>4</th>\n",
       "      <td>CHEMBL582777</td>\n",
       "      <td>CC1(C)NC(=NC(=N)N1OCc2ccc(cc2)c3ccccc3)N</td>\n",
       "      <td>0.717391</td>\n",
       "    </tr>\n",
       "    <tr>\n",
       "      <th>5</th>\n",
       "      <td>CHEMBL528095</td>\n",
       "      <td>Cc1cc(C)c(CON2C(=N)N=C(N)NC2(C)C)cc1C</td>\n",
       "      <td>0.717391</td>\n",
       "    </tr>\n",
       "  </tbody>\n",
       "</table>\n",
       "</div>"
      ],
      "text/plain": [
       "      CHEMBL_ID                                    SMILES  Similarity\n",
       "0  CHEMBL533166        Cc1ccc(CON2C(=N)N=C(N)NC2(C)C)cc1C    1.000000\n",
       "1  CHEMBL530088     Cl.Cc1ccc(CON2C(=N)N=C(N)NC2(C)C)cc1C    0.952381\n",
       "2  CHEMBL548854      COc1ccc(CON2C(=N)N=C(N)NC2(C)C)cc1OC    0.765957\n",
       "3  CHEMBL527580   Cl.COc1ccc(CON2C(=N)N=C(N)NC2(C)C)cc1OC    0.734694\n",
       "4  CHEMBL582777  CC1(C)NC(=NC(=N)N1OCc2ccc(cc2)c3ccccc3)N    0.717391\n",
       "5  CHEMBL528095     Cc1cc(C)c(CON2C(=N)N=C(N)NC2(C)C)cc1C    0.717391"
      ]
     },
     "execution_count": 108,
     "metadata": {},
     "output_type": "execute_result"
    }
   ],
   "source": [
    "for i in range(10):\n",
    "    "
   ]
  },
  {
   "cell_type": "code",
   "execution_count": 91,
   "metadata": {
    "collapsed": false
   },
   "outputs": [
    {
     "data": {
      "text/html": [
       "<div>\n",
       "<table border=\"1\" class=\"dataframe\">\n",
       "  <thead>\n",
       "    <tr style=\"text-align: right;\">\n",
       "      <th></th>\n",
       "      <th>CHEMBL_ID</th>\n",
       "      <th>SMILES</th>\n",
       "      <th>Similarity</th>\n",
       "    </tr>\n",
       "  </thead>\n",
       "  <tbody>\n",
       "    <tr>\n",
       "      <th>0</th>\n",
       "      <td>CHEMBL534824</td>\n",
       "      <td>Cc1nc(N)nc(N)c1OCCCOc2cccc(Cl)c2Cl</td>\n",
       "      <td>1.00000</td>\n",
       "    </tr>\n",
       "    <tr>\n",
       "      <th>1</th>\n",
       "      <td>CHEMBL579606</td>\n",
       "      <td>Cl.Cc1nc(N)nc(N)c1OCCCOc2cccc(Cl)c2Cl</td>\n",
       "      <td>0.95000</td>\n",
       "    </tr>\n",
       "    <tr>\n",
       "      <th>2</th>\n",
       "      <td>CHEMBL529285</td>\n",
       "      <td>Cc1nc(N)nc(N)c1OCCCOc2ccccc2Br</td>\n",
       "      <td>0.72093</td>\n",
       "    </tr>\n",
       "  </tbody>\n",
       "</table>\n",
       "</div>"
      ],
      "text/plain": [
       "      CHEMBL_ID                                 SMILES  Similarity\n",
       "0  CHEMBL534824     Cc1nc(N)nc(N)c1OCCCOc2cccc(Cl)c2Cl     1.00000\n",
       "1  CHEMBL579606  Cl.Cc1nc(N)nc(N)c1OCCCOc2cccc(Cl)c2Cl     0.95000\n",
       "2  CHEMBL529285         Cc1nc(N)nc(N)c1OCCCOc2ccccc2Br     0.72093"
      ]
     },
     "execution_count": 91,
     "metadata": {},
     "output_type": "execute_result"
    }
   ],
   "source": [
    "pd.DataFrame(results[0], columns=[\"CHEMBL_ID\", \"SMILES\", \"Similarity\"])"
   ]
  },
  {
   "cell_type": "code",
   "execution_count": 142,
   "metadata": {
    "collapsed": false
   },
   "outputs": [],
   "source": [
    "words = smiles[759].split(\"-\")[0]  "
   ]
  },
  {
   "cell_type": "code",
   "execution_count": 143,
   "metadata": {
    "collapsed": false
   },
   "outputs": [
    {
     "data": {
      "text/plain": [
       "'COCCNCc1cccc(c1)'"
      ]
     },
     "execution_count": 143,
     "metadata": {},
     "output_type": "execute_result"
    }
   ],
   "source": [
    "words"
   ]
  },
  {
   "cell_type": "code",
   "execution_count": 150,
   "metadata": {
    "collapsed": false
   },
   "outputs": [
    {
     "name": "stdout",
     "output_type": "stream",
     "text": [
      "/home/server2/Documents/malaria\n"
     ]
    }
   ],
   "source": [
    "%cd .."
   ]
  },
  {
   "cell_type": "code",
   "execution_count": 151,
   "metadata": {
    "collapsed": false
   },
   "outputs": [],
   "source": [
    "df_2 = pd.read_csv(\"ChEMBL_PFdata-all_200115.csv\")"
   ]
  },
  {
   "cell_type": "code",
   "execution_count": 154,
   "metadata": {
    "collapsed": false
   },
   "outputs": [],
   "source": [
    "smiles_2 = df_2['smiles'] #31307\n",
    "ORIG_chemblID = df_2['ORIG_CHEMBLID']\n"
   ]
  },
  {
   "cell_type": "code",
   "execution_count": 155,
   "metadata": {
    "collapsed": true
   },
   "outputs": [],
   "source": [
    "connection = apsw.Connection(chembldb_sql)\n",
    "connection.enableloadextension(True)\n",
    "connection.loadextension(chemicalite_path)\n",
    "connection.enableloadextension(False)\n",
    "\n",
    "cursor = connection.cursor()\n",
    "#target = \"CCc1cccc(OCCCON2C(=N)N=C(N)NC2(C)C)c1\"\n",
    "threshold = 0.7\n",
    "#print('searching for target:', target)\n",
    "\n",
    "matches, t = search(cursor, target, float(threshold))\n",
    "results = []\n",
    "\n",
    "for i in range(31307):\n",
    "    #matrix = tanimoto_search(chemicalite_path, chembldb_sql, smiles[i], threshold)\n",
    "    matches, t = search(cursor, smiles_2[i], float(threshold))\n",
    "    #data_frame = pd.DataFrame(results[i], columns=[\"CHEMBL_ID\", \"SMILES\", \"Similarity\"])\n",
    "    results.append(matches)\n",
    "    \n",
    "\n"
   ]
  },
  {
   "cell_type": "code",
   "execution_count": null,
   "metadata": {
    "collapsed": true
   },
   "outputs": [],
   "source": [
    "#%cd ChEMBL_PFData_Tanimoto_0.7_cutoff/\n",
    "import pandas as pd\n",
    "import numpy as np\n",
    "\n",
    "csvs = []\n",
    "\n",
    "for i in range(31307):\n",
    "    data_frame = pd.DataFrame(results[i], columns=[\"CHEMBL_ID\", \"SMILES\", \"Similarity\"]) \n",
    "    ##data_frame.to_csv(str(smiles[i].split(\"\\\\/\")[0]) + \".csv\", sep = '\\t', index = False)\n",
    "    data_frame.to_csv(ORIG_chemblID[i] + \".csv\", sep = '\\t', index = False)\n",
    "    #csvs.append(data_frame)\n",
    "    #smiles[1].split(\"\\\\\")\n",
    "    #df.to_csv(data_frame + \".csv\", sep='\\t')"
   ]
  },
  {
   "cell_type": "code",
   "execution_count": 156,
   "metadata": {
    "collapsed": false
   },
   "outputs": [
    {
     "name": "stdout",
     "output_type": "stream",
     "text": [
      "/home/server2/Documents/malaria/ChEMBL_PFData_Tanimoto_0.7_cutoff\n"
     ]
    }
   ],
   "source": [
    "%cd ChEMBL_PFData_Tanimoto_0.7_cutoff/"
   ]
  },
  {
   "cell_type": "code",
   "execution_count": 157,
   "metadata": {
    "collapsed": true
   },
   "outputs": [],
   "source": [
    "#%cd ChEMBL_PFData_Tanimoto_0.7_cutoff/\n",
    "import pandas as pd\n",
    "import numpy as np\n",
    "\n",
    "csvs = []\n",
    "\n",
    "for i in range(31307):\n",
    "    data_frame = pd.DataFrame(results[i], columns=[\"CHEMBL_ID\", \"SMILES\", \"Similarity\"]) \n",
    "    ##data_frame.to_csv(str(smiles[i].split(\"\\\\/\")[0]) + \".csv\", sep = '\\t', index = False)\n",
    "    data_frame.to_csv(ORIG_chemblID[i] + \".csv\", sep = '\\t', index = False)\n",
    "    #csvs.append(data_frame)\n",
    "    #smiles[1].split(\"\\\\\")\n",
    "    #df.to_csv(data_frame + \".csv\", sep='\\t')"
   ]
  },
  {
   "cell_type": "code",
   "execution_count": null,
   "metadata": {
    "collapsed": true
   },
   "outputs": [],
   "source": []
  }
 ],
 "metadata": {
  "kernelspec": {
   "display_name": "Python 2",
   "language": "python",
   "name": "python2"
  },
  "language_info": {
   "codemirror_mode": {
    "name": "ipython",
    "version": 2
   },
   "file_extension": ".py",
   "mimetype": "text/x-python",
   "name": "python",
   "nbconvert_exporter": "python",
   "pygments_lexer": "ipython2",
   "version": "2.7.11"
  }
 },
 "nbformat": 4,
 "nbformat_minor": 0
}
